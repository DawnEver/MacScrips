{
 "cells": [
  {
   "cell_type": "code",
   "execution_count": 20,
   "metadata": {},
   "outputs": [],
   "source": [
    "# pip install PyPDF4\n",
    "from PyPDF4 import PdfFileReader, PdfFileWriter\n",
    "# empty pdf page with watermark (sample)\n",
    "empty_pdf_path = \"./empty.pdf\" \n",
    "# input pdf path\n",
    "input_pdf_path = \"./剑桥雅思17Watermark.pdf\"\n",
    "# output pdf path\n",
    "output_pdf_path = \"./剑桥雅思17.pdf\""
   ]
  },
  {
   "cell_type": "code",
   "execution_count": 6,
   "metadata": {},
   "outputs": [],
   "source": [
    "# pip install PyPDF4\n",
    "from PyPDF4 import PdfFileReader, PdfFileWriter\n",
    "# empty pdf page with watermark (sample)\n",
    "empty_pdf_path = \"./empty.pdf\" \n",
    "# input pdf path\n",
    "input_pdf_path = \"/Users/linxu/Desktop/护理记录单_Insert.pdf\"\n",
    "# output pdf path\n",
    "output_pdf_path = \"/Users/linxu/Desktop/护理记录单_Modify.pdf\"\n"
   ]
  },
  {
   "cell_type": "code",
   "execution_count": 5,
   "metadata": {},
   "outputs": [
    {
     "name": "stderr",
     "output_type": "stream",
     "text": [
      "PdfReadWarning: Object 198 0 not defined. [pdf.py:1693]\n"
     ]
    },
    {
     "ename": "PdfReadError",
     "evalue": "Could not find object.",
     "output_type": "error",
     "traceback": [
      "\u001b[0;31m---------------------------------------------------------------------------\u001b[0m",
      "\u001b[0;31mPdfReadError\u001b[0m                              Traceback (most recent call last)",
      "Cell \u001b[0;32mIn[5], line 19\u001b[0m\n\u001b[1;32m     17\u001b[0m \u001b[39m# save pdf\u001b[39;00m\n\u001b[1;32m     18\u001b[0m \u001b[39mwith\u001b[39;00m \u001b[39mopen\u001b[39m(output_pdf_path, \u001b[39m'\u001b[39m\u001b[39mwb\u001b[39m\u001b[39m'\u001b[39m) \u001b[39mas\u001b[39;00m output_pdf:\n\u001b[0;32m---> 19\u001b[0m     output\u001b[39m.\u001b[39;49mwrite(output_pdf)\n",
      "File \u001b[0;32m/usr/local/Caskroom/miniconda/base/envs/workspace@310/lib/python3.10/site-packages/PyPDF4/pdf.py:482\u001b[0m, in \u001b[0;36mPdfFileWriter.write\u001b[0;34m(self, stream)\u001b[0m\n\u001b[1;32m    480\u001b[0m \u001b[39mself\u001b[39m\u001b[39m.\u001b[39mstack \u001b[39m=\u001b[39m []\n\u001b[1;32m    481\u001b[0m \u001b[39mif\u001b[39;00m debug: \u001b[39mprint\u001b[39m((\u001b[39m\"\u001b[39m\u001b[39mERM:\u001b[39m\u001b[39m\"\u001b[39m, externalReferenceMap, \u001b[39m\"\u001b[39m\u001b[39mroot:\u001b[39m\u001b[39m\"\u001b[39m, \u001b[39mself\u001b[39m\u001b[39m.\u001b[39m_root))\n\u001b[0;32m--> 482\u001b[0m \u001b[39mself\u001b[39;49m\u001b[39m.\u001b[39;49m_sweepIndirectReferences(externalReferenceMap, \u001b[39mself\u001b[39;49m\u001b[39m.\u001b[39;49m_root)\n\u001b[1;32m    483\u001b[0m \u001b[39mdel\u001b[39;00m \u001b[39mself\u001b[39m\u001b[39m.\u001b[39mstack\n\u001b[1;32m    485\u001b[0m \u001b[39m# Begin writing:\u001b[39;00m\n",
      "File \u001b[0;32m/usr/local/Caskroom/miniconda/base/envs/workspace@310/lib/python3.10/site-packages/PyPDF4/pdf.py:572\u001b[0m, in \u001b[0;36mPdfFileWriter._sweepIndirectReferences\u001b[0;34m(self, externMap, data)\u001b[0m\n\u001b[1;32m    570\u001b[0m         \u001b[39mself\u001b[39m\u001b[39m.\u001b[39mstack\u001b[39m.\u001b[39mappend(data\u001b[39m.\u001b[39midnum)\n\u001b[1;32m    571\u001b[0m         realdata \u001b[39m=\u001b[39m \u001b[39mself\u001b[39m\u001b[39m.\u001b[39mgetObject(data)\n\u001b[0;32m--> 572\u001b[0m         \u001b[39mself\u001b[39;49m\u001b[39m.\u001b[39;49m_sweepIndirectReferences(externMap, realdata)\n\u001b[1;32m    573\u001b[0m         \u001b[39mreturn\u001b[39;00m data\n\u001b[1;32m    574\u001b[0m \u001b[39melse\u001b[39;00m:\n",
      "File \u001b[0;32m/usr/local/Caskroom/miniconda/base/envs/workspace@310/lib/python3.10/site-packages/PyPDF4/pdf.py:548\u001b[0m, in \u001b[0;36mPdfFileWriter._sweepIndirectReferences\u001b[0;34m(self, externMap, data)\u001b[0m\n\u001b[1;32m    546\u001b[0m \u001b[39mfor\u001b[39;00m key, value \u001b[39min\u001b[39;00m \u001b[39mlist\u001b[39m(data\u001b[39m.\u001b[39mitems()):\n\u001b[1;32m    547\u001b[0m     origvalue \u001b[39m=\u001b[39m value\n\u001b[0;32m--> 548\u001b[0m     value \u001b[39m=\u001b[39m \u001b[39mself\u001b[39;49m\u001b[39m.\u001b[39;49m_sweepIndirectReferences(externMap, value)\n\u001b[1;32m    549\u001b[0m     \u001b[39mif\u001b[39;00m \u001b[39misinstance\u001b[39m(value, StreamObject):\n\u001b[1;32m    550\u001b[0m         \u001b[39m# a dictionary value is a stream.  streams must be indirect\u001b[39;00m\n\u001b[1;32m    551\u001b[0m         \u001b[39m# objects, so we need to change this value.\u001b[39;00m\n\u001b[1;32m    552\u001b[0m         value \u001b[39m=\u001b[39m \u001b[39mself\u001b[39m\u001b[39m.\u001b[39m_addObject(value)\n",
      "File \u001b[0;32m/usr/local/Caskroom/miniconda/base/envs/workspace@310/lib/python3.10/site-packages/PyPDF4/pdf.py:572\u001b[0m, in \u001b[0;36mPdfFileWriter._sweepIndirectReferences\u001b[0;34m(self, externMap, data)\u001b[0m\n\u001b[1;32m    570\u001b[0m         \u001b[39mself\u001b[39m\u001b[39m.\u001b[39mstack\u001b[39m.\u001b[39mappend(data\u001b[39m.\u001b[39midnum)\n\u001b[1;32m    571\u001b[0m         realdata \u001b[39m=\u001b[39m \u001b[39mself\u001b[39m\u001b[39m.\u001b[39mgetObject(data)\n\u001b[0;32m--> 572\u001b[0m         \u001b[39mself\u001b[39;49m\u001b[39m.\u001b[39;49m_sweepIndirectReferences(externMap, realdata)\n\u001b[1;32m    573\u001b[0m         \u001b[39mreturn\u001b[39;00m data\n\u001b[1;32m    574\u001b[0m \u001b[39melse\u001b[39;00m:\n",
      "File \u001b[0;32m/usr/local/Caskroom/miniconda/base/envs/workspace@310/lib/python3.10/site-packages/PyPDF4/pdf.py:548\u001b[0m, in \u001b[0;36mPdfFileWriter._sweepIndirectReferences\u001b[0;34m(self, externMap, data)\u001b[0m\n\u001b[1;32m    546\u001b[0m \u001b[39mfor\u001b[39;00m key, value \u001b[39min\u001b[39;00m \u001b[39mlist\u001b[39m(data\u001b[39m.\u001b[39mitems()):\n\u001b[1;32m    547\u001b[0m     origvalue \u001b[39m=\u001b[39m value\n\u001b[0;32m--> 548\u001b[0m     value \u001b[39m=\u001b[39m \u001b[39mself\u001b[39;49m\u001b[39m.\u001b[39;49m_sweepIndirectReferences(externMap, value)\n\u001b[1;32m    549\u001b[0m     \u001b[39mif\u001b[39;00m \u001b[39misinstance\u001b[39m(value, StreamObject):\n\u001b[1;32m    550\u001b[0m         \u001b[39m# a dictionary value is a stream.  streams must be indirect\u001b[39;00m\n\u001b[1;32m    551\u001b[0m         \u001b[39m# objects, so we need to change this value.\u001b[39;00m\n\u001b[1;32m    552\u001b[0m         value \u001b[39m=\u001b[39m \u001b[39mself\u001b[39m\u001b[39m.\u001b[39m_addObject(value)\n",
      "File \u001b[0;32m/usr/local/Caskroom/miniconda/base/envs/workspace@310/lib/python3.10/site-packages/PyPDF4/pdf.py:557\u001b[0m, in \u001b[0;36mPdfFileWriter._sweepIndirectReferences\u001b[0;34m(self, externMap, data)\u001b[0m\n\u001b[1;32m    555\u001b[0m \u001b[39melif\u001b[39;00m \u001b[39misinstance\u001b[39m(data, ArrayObject):\n\u001b[1;32m    556\u001b[0m     \u001b[39mfor\u001b[39;00m i \u001b[39min\u001b[39;00m \u001b[39mrange\u001b[39m(\u001b[39mlen\u001b[39m(data)):\n\u001b[0;32m--> 557\u001b[0m         value \u001b[39m=\u001b[39m \u001b[39mself\u001b[39;49m\u001b[39m.\u001b[39;49m_sweepIndirectReferences(externMap, data[i])\n\u001b[1;32m    558\u001b[0m         \u001b[39mif\u001b[39;00m \u001b[39misinstance\u001b[39m(value, StreamObject):\n\u001b[1;32m    559\u001b[0m             \u001b[39m# an array value is a stream.  streams must be indirect\u001b[39;00m\n\u001b[1;32m    560\u001b[0m             \u001b[39m# objects, so we need to change this value\u001b[39;00m\n\u001b[1;32m    561\u001b[0m             value \u001b[39m=\u001b[39m \u001b[39mself\u001b[39m\u001b[39m.\u001b[39m_addObject(value)\n",
      "File \u001b[0;32m/usr/local/Caskroom/miniconda/base/envs/workspace@310/lib/python3.10/site-packages/PyPDF4/pdf.py:572\u001b[0m, in \u001b[0;36mPdfFileWriter._sweepIndirectReferences\u001b[0;34m(self, externMap, data)\u001b[0m\n\u001b[1;32m    570\u001b[0m         \u001b[39mself\u001b[39m\u001b[39m.\u001b[39mstack\u001b[39m.\u001b[39mappend(data\u001b[39m.\u001b[39midnum)\n\u001b[1;32m    571\u001b[0m         realdata \u001b[39m=\u001b[39m \u001b[39mself\u001b[39m\u001b[39m.\u001b[39mgetObject(data)\n\u001b[0;32m--> 572\u001b[0m         \u001b[39mself\u001b[39;49m\u001b[39m.\u001b[39;49m_sweepIndirectReferences(externMap, realdata)\n\u001b[1;32m    573\u001b[0m         \u001b[39mreturn\u001b[39;00m data\n\u001b[1;32m    574\u001b[0m \u001b[39melse\u001b[39;00m:\n",
      "File \u001b[0;32m/usr/local/Caskroom/miniconda/base/envs/workspace@310/lib/python3.10/site-packages/PyPDF4/pdf.py:548\u001b[0m, in \u001b[0;36mPdfFileWriter._sweepIndirectReferences\u001b[0;34m(self, externMap, data)\u001b[0m\n\u001b[1;32m    546\u001b[0m \u001b[39mfor\u001b[39;00m key, value \u001b[39min\u001b[39;00m \u001b[39mlist\u001b[39m(data\u001b[39m.\u001b[39mitems()):\n\u001b[1;32m    547\u001b[0m     origvalue \u001b[39m=\u001b[39m value\n\u001b[0;32m--> 548\u001b[0m     value \u001b[39m=\u001b[39m \u001b[39mself\u001b[39;49m\u001b[39m.\u001b[39;49m_sweepIndirectReferences(externMap, value)\n\u001b[1;32m    549\u001b[0m     \u001b[39mif\u001b[39;00m \u001b[39misinstance\u001b[39m(value, StreamObject):\n\u001b[1;32m    550\u001b[0m         \u001b[39m# a dictionary value is a stream.  streams must be indirect\u001b[39;00m\n\u001b[1;32m    551\u001b[0m         \u001b[39m# objects, so we need to change this value.\u001b[39;00m\n\u001b[1;32m    552\u001b[0m         value \u001b[39m=\u001b[39m \u001b[39mself\u001b[39m\u001b[39m.\u001b[39m_addObject(value)\n",
      "File \u001b[0;32m/usr/local/Caskroom/miniconda/base/envs/workspace@310/lib/python3.10/site-packages/PyPDF4/pdf.py:548\u001b[0m, in \u001b[0;36mPdfFileWriter._sweepIndirectReferences\u001b[0;34m(self, externMap, data)\u001b[0m\n\u001b[1;32m    546\u001b[0m \u001b[39mfor\u001b[39;00m key, value \u001b[39min\u001b[39;00m \u001b[39mlist\u001b[39m(data\u001b[39m.\u001b[39mitems()):\n\u001b[1;32m    547\u001b[0m     origvalue \u001b[39m=\u001b[39m value\n\u001b[0;32m--> 548\u001b[0m     value \u001b[39m=\u001b[39m \u001b[39mself\u001b[39;49m\u001b[39m.\u001b[39;49m_sweepIndirectReferences(externMap, value)\n\u001b[1;32m    549\u001b[0m     \u001b[39mif\u001b[39;00m \u001b[39misinstance\u001b[39m(value, StreamObject):\n\u001b[1;32m    550\u001b[0m         \u001b[39m# a dictionary value is a stream.  streams must be indirect\u001b[39;00m\n\u001b[1;32m    551\u001b[0m         \u001b[39m# objects, so we need to change this value.\u001b[39;00m\n\u001b[1;32m    552\u001b[0m         value \u001b[39m=\u001b[39m \u001b[39mself\u001b[39m\u001b[39m.\u001b[39m_addObject(value)\n",
      "File \u001b[0;32m/usr/local/Caskroom/miniconda/base/envs/workspace@310/lib/python3.10/site-packages/PyPDF4/pdf.py:548\u001b[0m, in \u001b[0;36mPdfFileWriter._sweepIndirectReferences\u001b[0;34m(self, externMap, data)\u001b[0m\n\u001b[1;32m    546\u001b[0m \u001b[39mfor\u001b[39;00m key, value \u001b[39min\u001b[39;00m \u001b[39mlist\u001b[39m(data\u001b[39m.\u001b[39mitems()):\n\u001b[1;32m    547\u001b[0m     origvalue \u001b[39m=\u001b[39m value\n\u001b[0;32m--> 548\u001b[0m     value \u001b[39m=\u001b[39m \u001b[39mself\u001b[39;49m\u001b[39m.\u001b[39;49m_sweepIndirectReferences(externMap, value)\n\u001b[1;32m    549\u001b[0m     \u001b[39mif\u001b[39;00m \u001b[39misinstance\u001b[39m(value, StreamObject):\n\u001b[1;32m    550\u001b[0m         \u001b[39m# a dictionary value is a stream.  streams must be indirect\u001b[39;00m\n\u001b[1;32m    551\u001b[0m         \u001b[39m# objects, so we need to change this value.\u001b[39;00m\n\u001b[1;32m    552\u001b[0m         value \u001b[39m=\u001b[39m \u001b[39mself\u001b[39m\u001b[39m.\u001b[39m_addObject(value)\n",
      "File \u001b[0;32m/usr/local/Caskroom/miniconda/base/envs/workspace@310/lib/python3.10/site-packages/PyPDF4/pdf.py:589\u001b[0m, in \u001b[0;36mPdfFileWriter._sweepIndirectReferences\u001b[0;34m(self, externMap, data)\u001b[0m\n\u001b[1;32m    587\u001b[0m     externMap[data\u001b[39m.\u001b[39mpdf][data\u001b[39m.\u001b[39mgeneration] \u001b[39m=\u001b[39m {}\n\u001b[1;32m    588\u001b[0m externMap[data\u001b[39m.\u001b[39mpdf][data\u001b[39m.\u001b[39mgeneration][data\u001b[39m.\u001b[39midnum] \u001b[39m=\u001b[39m newobj_ido\n\u001b[0;32m--> 589\u001b[0m newobj \u001b[39m=\u001b[39m \u001b[39mself\u001b[39;49m\u001b[39m.\u001b[39;49m_sweepIndirectReferences(externMap, newobj)\n\u001b[1;32m    590\u001b[0m \u001b[39mself\u001b[39m\u001b[39m.\u001b[39m_objects[idnum\u001b[39m-\u001b[39m\u001b[39m1\u001b[39m] \u001b[39m=\u001b[39m newobj\n\u001b[1;32m    591\u001b[0m \u001b[39mreturn\u001b[39;00m newobj_ido\n",
      "File \u001b[0;32m/usr/local/Caskroom/miniconda/base/envs/workspace@310/lib/python3.10/site-packages/PyPDF4/pdf.py:548\u001b[0m, in \u001b[0;36mPdfFileWriter._sweepIndirectReferences\u001b[0;34m(self, externMap, data)\u001b[0m\n\u001b[1;32m    546\u001b[0m \u001b[39mfor\u001b[39;00m key, value \u001b[39min\u001b[39;00m \u001b[39mlist\u001b[39m(data\u001b[39m.\u001b[39mitems()):\n\u001b[1;32m    547\u001b[0m     origvalue \u001b[39m=\u001b[39m value\n\u001b[0;32m--> 548\u001b[0m     value \u001b[39m=\u001b[39m \u001b[39mself\u001b[39;49m\u001b[39m.\u001b[39;49m_sweepIndirectReferences(externMap, value)\n\u001b[1;32m    549\u001b[0m     \u001b[39mif\u001b[39;00m \u001b[39misinstance\u001b[39m(value, StreamObject):\n\u001b[1;32m    550\u001b[0m         \u001b[39m# a dictionary value is a stream.  streams must be indirect\u001b[39;00m\n\u001b[1;32m    551\u001b[0m         \u001b[39m# objects, so we need to change this value.\u001b[39;00m\n\u001b[1;32m    552\u001b[0m         value \u001b[39m=\u001b[39m \u001b[39mself\u001b[39m\u001b[39m.\u001b[39m_addObject(value)\n",
      "File \u001b[0;32m/usr/local/Caskroom/miniconda/base/envs/workspace@310/lib/python3.10/site-packages/PyPDF4/pdf.py:580\u001b[0m, in \u001b[0;36mPdfFileWriter._sweepIndirectReferences\u001b[0;34m(self, externMap, data)\u001b[0m\n\u001b[1;32m    578\u001b[0m \u001b[39mif\u001b[39;00m newobj \u001b[39m==\u001b[39m \u001b[39mNone\u001b[39;00m:\n\u001b[1;32m    579\u001b[0m     \u001b[39mtry\u001b[39;00m:\n\u001b[0;32m--> 580\u001b[0m         newobj \u001b[39m=\u001b[39m data\u001b[39m.\u001b[39;49mpdf\u001b[39m.\u001b[39;49mgetObject(data)\n\u001b[1;32m    581\u001b[0m         \u001b[39mself\u001b[39m\u001b[39m.\u001b[39m_objects\u001b[39m.\u001b[39mappend(\u001b[39mNone\u001b[39;00m) \u001b[39m# placeholder\u001b[39;00m\n\u001b[1;32m    582\u001b[0m         idnum \u001b[39m=\u001b[39m \u001b[39mlen\u001b[39m(\u001b[39mself\u001b[39m\u001b[39m.\u001b[39m_objects)\n",
      "File \u001b[0;32m/usr/local/Caskroom/miniconda/base/envs/workspace@310/lib/python3.10/site-packages/PyPDF4/pdf.py:1696\u001b[0m, in \u001b[0;36mPdfFileReader.getObject\u001b[0;34m(self, indirectReference)\u001b[0m\n\u001b[1;32m   1693\u001b[0m     warnings\u001b[39m.\u001b[39mwarn(\u001b[39m\"\u001b[39m\u001b[39mObject \u001b[39m\u001b[39m%d\u001b[39;00m\u001b[39m \u001b[39m\u001b[39m%d\u001b[39;00m\u001b[39m not defined.\u001b[39m\u001b[39m\"\u001b[39m\u001b[39m%\u001b[39m(indirectReference\u001b[39m.\u001b[39midnum,\n\u001b[1;32m   1694\u001b[0m                 indirectReference\u001b[39m.\u001b[39mgeneration), utils\u001b[39m.\u001b[39mPdfReadWarning)\n\u001b[1;32m   1695\u001b[0m     \u001b[39m#if self.strict:\u001b[39;00m\n\u001b[0;32m-> 1696\u001b[0m     \u001b[39mraise\u001b[39;00m utils\u001b[39m.\u001b[39mPdfReadError(\u001b[39m\"\u001b[39m\u001b[39mCould not find object.\u001b[39m\u001b[39m\"\u001b[39m)\n\u001b[1;32m   1697\u001b[0m \u001b[39mself\u001b[39m\u001b[39m.\u001b[39mcacheIndirectObject(indirectReference\u001b[39m.\u001b[39mgeneration,\n\u001b[1;32m   1698\u001b[0m             indirectReference\u001b[39m.\u001b[39midnum, retval)\n\u001b[1;32m   1699\u001b[0m \u001b[39mreturn\u001b[39;00m retval\n",
      "\u001b[0;31mPdfReadError\u001b[0m: Could not find object."
     ]
    }
   ],
   "source": [
    "# Get Watermark layer \n",
    "empty_pdf = PdfFileReader(empty_pdf_path, 'rb')\n",
    "WaterMarkLayerKeys = empty_pdf.getPage(0)['/Resources']['/XObject'].getObject().keys()\n",
    "\n",
    "# Erase Watermark layer \n",
    "input_pdf = PdfFileReader(input_pdf_path, 'rb')\n",
    "WaterMarkLayerKeys = input_pdf.getPage(0)['/Resources']['/XObject'].getObject().keys()\n",
    "output = PdfFileWriter()\n",
    "\n",
    "for page_num in range(input_pdf.getNumPages()):\n",
    "    page = input_pdf.getPage(page_num)\n",
    "    for key in [j for j in WaterMarkLayerKeys if j in page['/Resources']['/XObject'].getObject().keys()]:\n",
    "        page['/Resources']['/XObject'][key].clear()\n",
    "    # add page to output_pdf\n",
    "    output.addPage(page)\n",
    "\n",
    "# # save pdf\n",
    "# with open(output_pdf_path, 'wb') as output_pdf:\n",
    "#     output.write(output_pdf)"
   ]
  }
 ],
 "metadata": {
  "kernelspec": {
   "display_name": "workspace@310",
   "language": "python",
   "name": "python3"
  },
  "language_info": {
   "codemirror_mode": {
    "name": "ipython",
    "version": 3
   },
   "file_extension": ".py",
   "mimetype": "text/x-python",
   "name": "python",
   "nbconvert_exporter": "python",
   "pygments_lexer": "ipython3",
   "version": "3.10.9"
  },
  "orig_nbformat": 4
 },
 "nbformat": 4,
 "nbformat_minor": 2
}
