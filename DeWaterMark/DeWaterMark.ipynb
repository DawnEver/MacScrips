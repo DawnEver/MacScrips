{
 "cells": [
  {
   "cell_type": "code",
   "execution_count": 20,
   "metadata": {},
   "outputs": [],
   "source": [
    "# pip install PyPDF4\n",
    "from PyPDF4 import PdfFileReader, PdfFileWriter\n",
    "# empty pdf page with watermark (sample)\n",
    "empty_pdf_path = \"./empty.pdf\" \n",
    "# input pdf path\n",
    "input_pdf_path = \"./剑桥雅思17Watermark.pdf\"\n",
    "# output pdf path\n",
    "output_pdf_path = \"./剑桥雅思17.pdf\""
   ]
  },
  {
   "cell_type": "code",
   "execution_count": 21,
   "metadata": {},
   "outputs": [],
   "source": [
    "# Get Watermark layer \n",
    "empty_pdf = PdfFileReader(empty_pdf_path, 'rb')\n",
    "WaterMarkLayerKeys = empty_pdf.getPage(0)['/Resources']['/XObject'].getObject().keys()\n",
    "\n",
    "# Erase Watermark layer \n",
    "input_pdf = PdfFileReader(input_pdf_path, 'rb')\n",
    "WaterMarkLayerKeys = input_pdf.getPage(0)['/Resources']['/XObject'].getObject().keys()\n",
    "output = PdfFileWriter()\n",
    "\n",
    "for page_num in range(input_pdf.getNumPages()):\n",
    "    page = input_pdf.getPage(page_num)\n",
    "    for key in [j for j in WaterMarkLayerKeys if j in page['/Resources']['/XObject'].getObject().keys()]:\n",
    "        page['/Resources']['/XObject'][key].clear()\n",
    "    # add page to output_pdf\n",
    "    output.addPage(page)\n",
    "\n",
    "# save pdf\n",
    "with open(output_pdf_path, 'wb') as output_pdf:\n",
    "    output.write(output_pdf)"
   ]
  }
 ],
 "metadata": {
  "kernelspec": {
   "display_name": "workspace@310",
   "language": "python",
   "name": "python3"
  },
  "language_info": {
   "codemirror_mode": {
    "name": "ipython",
    "version": 3
   },
   "file_extension": ".py",
   "mimetype": "text/x-python",
   "name": "python",
   "nbconvert_exporter": "python",
   "pygments_lexer": "ipython3",
   "version": "3.10.9"
  },
  "orig_nbformat": 4
 },
 "nbformat": 4,
 "nbformat_minor": 2
}
